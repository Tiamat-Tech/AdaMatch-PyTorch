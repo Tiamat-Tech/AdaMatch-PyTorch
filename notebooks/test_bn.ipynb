{
 "cells": [
  {
   "cell_type": "code",
   "execution_count": 1,
   "source": [
    "import torch.nn as nn\n",
    "import torch"
   ],
   "outputs": [],
   "metadata": {}
  },
  {
   "cell_type": "code",
   "execution_count": 2,
   "source": [
    "bn = nn.BatchNorm2d(3)\n",
    "\n",
    "N, C, H, W = 2, 3, 4, 5\n",
    "mean, std = 10, 4\n",
    "x = std * torch.randn(N, C, H, W) + mean"
   ],
   "outputs": [],
   "metadata": {}
  },
  {
   "cell_type": "code",
   "execution_count": 3,
   "source": [
    "# Should have correct `mean` and `std`\n",
    "print('Before BN:')\n",
    "print('  Shape: ', x.shape)\n",
    "print('  Means: ', x.mean(dim=(0, 2, 3)))\n",
    "print('  Stds: ', x.std(dim=(0, 2, 3)))\n",
    "print('  Running Mean: ', bn.running_mean)\n",
    "print('  Running Var: ', bn.running_var)"
   ],
   "outputs": [
    {
     "output_type": "stream",
     "name": "stdout",
     "text": [
      "Before BN:\n",
      "  Shape:  torch.Size([2, 3, 4, 5])\n",
      "  Means:  tensor([ 9.2909, 10.8612,  9.9053])\n",
      "  Stds:  tensor([3.7070, 4.4806, 3.7729])\n",
      "  Running Mean:  tensor([0., 0., 0.])\n",
      "  Running Var:  tensor([1., 1., 1.])\n"
     ]
    }
   ],
   "metadata": {}
  },
  {
   "cell_type": "code",
   "execution_count": 4,
   "source": [
    "# Should have mean = 0, and std = 1,\n",
    "# and running stats are updated\n",
    "bn.train()\n",
    "out = bn(x)\n",
    "print('After BN Train:')\n",
    "print('  Shape: ', out.shape)\n",
    "print('  Means: ', out.mean(dim=(0, 2, 3)))\n",
    "print('  Stds: ', out.std(dim=(0, 2, 3)))\n",
    "print('  Running Mean: ', bn.running_mean)\n",
    "print('  Running Var: ', bn.running_var)"
   ],
   "outputs": [
    {
     "output_type": "stream",
     "name": "stdout",
     "text": [
      "After BN Train:\n",
      "  Shape:  torch.Size([2, 3, 4, 5])\n",
      "  Means:  tensor([ 1.4901e-08,  4.9174e-08, -5.0664e-08], grad_fn=<MeanBackward1>)\n",
      "  Stds:  tensor([1.0127, 1.0127, 1.0127], grad_fn=<StdBackward>)\n",
      "  Running Mean:  tensor([0.9291, 1.0861, 0.9905])\n",
      "  Running Var:  tensor([2.2742, 2.9076, 2.3235])\n"
     ]
    }
   ],
   "metadata": {}
  },
  {
   "cell_type": "code",
   "execution_count": 5,
   "source": [
    "# mean != 0 and std != 1,\n",
    "# and running stats are not updated\n",
    "bn.eval()\n",
    "out = bn(x)\n",
    "print('After BN Eval:')\n",
    "print('  Shape: ', out.shape)\n",
    "print('  Means: ', out.mean(dim=(0, 2, 3)))\n",
    "print('  Stds: ', out.std(dim=(0, 2, 3)))\n",
    "print('  Running Mean: ', bn.running_mean)\n",
    "print('  Running Var: ', bn.running_var)"
   ],
   "outputs": [
    {
     "output_type": "stream",
     "name": "stdout",
     "text": [
      "After BN Eval:\n",
      "  Shape:  torch.Size([2, 3, 4, 5])\n",
      "  Means:  tensor([5.5448, 5.7326, 5.8484], grad_fn=<MeanBackward1>)\n",
      "  Stds:  tensor([2.4581, 2.6277, 2.4752], grad_fn=<StdBackward>)\n",
      "  Running Mean:  tensor([0.9291, 1.0861, 0.9905])\n",
      "  Running Var:  tensor([2.2742, 2.9076, 2.3235])\n"
     ]
    }
   ],
   "metadata": {}
  },
  {
   "cell_type": "code",
   "execution_count": 6,
   "source": [
    "# mean = 0 and std = 1,\n",
    "# but running stats are not updated\n",
    "bn.train()\n",
    "bn.track_running_stats = False\n",
    "out = bn(x)\n",
    "print('After BN Train + Disable Running Stats:')\n",
    "print('  Shape: ', out.shape)\n",
    "print('  Means: ', out.mean(dim=(0, 2, 3)))\n",
    "print('  Stds: ', out.std(dim=(0, 2, 3)))\n",
    "print('  Running Mean: ', bn.running_mean)\n",
    "print('  Running Var: ', bn.running_var)"
   ],
   "outputs": [
    {
     "output_type": "stream",
     "name": "stdout",
     "text": [
      "After BN Train + Disable Running Stats:\n",
      "  Shape:  torch.Size([2, 3, 4, 5])\n",
      "  Means:  tensor([ 1.4901e-08,  4.9174e-08, -5.0664e-08], grad_fn=<MeanBackward1>)\n",
      "  Stds:  tensor([1.0127, 1.0127, 1.0127], grad_fn=<StdBackward>)\n",
      "  Running Mean:  tensor([0.9291, 1.0861, 0.9905])\n",
      "  Running Var:  tensor([2.2742, 2.9076, 2.3235])\n"
     ]
    }
   ],
   "metadata": {}
  },
  {
   "cell_type": "code",
   "execution_count": 7,
   "source": [
    "# mean = 0 and std = 1,\n",
    "# and running stats are updated\n",
    "bn.train()\n",
    "bn.track_running_stats = True\n",
    "out = bn(x)\n",
    "print('After BN Train + Enable Running Stats:')\n",
    "print('  Shape: ', out.shape)\n",
    "print('  Means: ', out.mean(dim=(0, 2, 3)))\n",
    "print('  Stds: ', out.std(dim=(0, 2, 3)))\n",
    "print('  Running Mean: ', bn.running_mean)\n",
    "print('  Running Var: ', bn.running_var)"
   ],
   "outputs": [
    {
     "output_type": "stream",
     "name": "stdout",
     "text": [
      "After BN Train + Disable Running Stats:\n",
      "  Shape:  torch.Size([2, 3, 4, 5])\n",
      "  Means:  tensor([ 1.4901e-08,  4.9174e-08, -5.0664e-08], grad_fn=<MeanBackward1>)\n",
      "  Stds:  tensor([1.0127, 1.0127, 1.0127], grad_fn=<StdBackward>)\n",
      "  Running Mean:  tensor([1.7653, 2.0636, 1.8820])\n",
      "  Running Var:  tensor([3.4209, 4.6244, 3.5146])\n"
     ]
    }
   ],
   "metadata": {}
  },
  {
   "cell_type": "code",
   "execution_count": 8,
   "source": [
    "# mean = 0 and std = 1,\n",
    "# but running stats are not updated\n",
    "bn.train()\n",
    "bn.track_running_stats = False\n",
    "out = bn(x)\n",
    "print('After BN Train + Disable Running Stats:')\n",
    "print('  Shape: ', out.shape)\n",
    "print('  Means: ', out.mean(dim=(0, 2, 3)))\n",
    "print('  Stds: ', out.std(dim=(0, 2, 3)))\n",
    "print('  Running Mean: ', bn.running_mean)\n",
    "print('  Running Var: ', bn.running_var)"
   ],
   "outputs": [
    {
     "output_type": "stream",
     "name": "stdout",
     "text": [
      "After BN Train + Disable Running Stats:\n",
      "  Shape:  torch.Size([2, 3, 4, 5])\n",
      "  Means:  tensor([ 1.4901e-08,  4.9174e-08, -5.0664e-08], grad_fn=<MeanBackward1>)\n",
      "  Stds:  tensor([1.0127, 1.0127, 1.0127], grad_fn=<StdBackward>)\n",
      "  Running Mean:  tensor([1.7653, 2.0636, 1.8820])\n",
      "  Running Var:  tensor([3.4209, 4.6244, 3.5146])\n"
     ]
    }
   ],
   "metadata": {}
  },
  {
   "cell_type": "code",
   "execution_count": 9,
   "source": [
    "# mean = 0 and std = 1,\n",
    "# and running stats are updated\n",
    "bn.train()\n",
    "bn.track_running_stats = True\n",
    "out = bn(x)\n",
    "print('After BN Train + Enable Running Stats:')\n",
    "print('  Shape: ', out.shape)\n",
    "print('  Means: ', out.mean(dim=(0, 2, 3)))\n",
    "print('  Stds: ', out.std(dim=(0, 2, 3)))\n",
    "print('  Running Mean: ', bn.running_mean)\n",
    "print('  Running Var: ', bn.running_var)"
   ],
   "outputs": [
    {
     "output_type": "stream",
     "name": "stdout",
     "text": [
      "After BN Train + Enable Running Stats:\n",
      "  Shape:  torch.Size([2, 3, 4, 5])\n",
      "  Means:  tensor([ 1.4901e-08,  4.9174e-08, -5.0664e-08], grad_fn=<MeanBackward1>)\n",
      "  Stds:  tensor([1.0127, 1.0127, 1.0127], grad_fn=<StdBackward>)\n",
      "  Running Mean:  tensor([2.5178, 2.9434, 2.6843])\n",
      "  Running Var:  tensor([4.4530, 6.1695, 4.5866])\n"
     ]
    }
   ],
   "metadata": {}
  },
  {
   "cell_type": "code",
   "execution_count": null,
   "source": [],
   "outputs": [],
   "metadata": {}
  }
 ],
 "metadata": {
  "orig_nbformat": 4,
  "language_info": {
   "name": "python"
  }
 },
 "nbformat": 4,
 "nbformat_minor": 2
}